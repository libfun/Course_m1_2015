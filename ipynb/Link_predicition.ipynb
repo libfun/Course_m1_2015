{
 "cells": [
  {
   "cell_type": "markdown",
   "metadata": {},
   "source": [
    "#Notebook for link prediciton analysis\n",
    "##Coursework 2015, HSE - DataSci\n",
    "###Sergey Korolev"
   ]
  },
  {
   "cell_type": "markdown",
   "metadata": {},
   "source": [
    "####First attempt, similarity based algorithms"
   ]
  },
  {
   "cell_type": "markdown",
   "metadata": {},
   "source": [
    "####Networks used:\n",
    "1. UciNet data - http://vlado.fmf.uni-lj.si/pub/networks/data/UciNet/UciData.htm\n",
    "2. Pajek datasets - http://vlado.fmf.uni-lj.si/pub/networks/data/default.htm\n",
    "3. ND - http://www3.nd.edu/~networks/resources.htm (possibly already in pajek ds)\n",
    "4. Alex Arenas - http://deim.urv.cat/~alexandre.arenas/data/welcome.htm\n",
    "5. Stanford nets - http://snap.stanford.edu/data/\n",
    "\n",
    "Really hope to sift through them or just write some interface to load them into networkx to work with them."
   ]
  },
  {
   "cell_type": "code",
   "execution_count": null,
   "metadata": {
    "collapsed": true
   },
   "outputs": [],
   "source": []
  }
 ],
 "metadata": {
  "kernelspec": {
   "display_name": "Python 2",
   "language": "python",
   "name": "python2"
  },
  "language_info": {
   "codemirror_mode": {
    "name": "ipython",
    "version": 2
   },
   "file_extension": ".py",
   "mimetype": "text/x-python",
   "name": "python",
   "nbconvert_exporter": "python",
   "pygments_lexer": "ipython2",
   "version": "2.7.8"
  }
 },
 "nbformat": 4,
 "nbformat_minor": 0
}
